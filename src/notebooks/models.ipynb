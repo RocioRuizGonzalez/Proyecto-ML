{
 "cells": [
  {
   "cell_type": "code",
   "execution_count": 1,
   "id": "41e539c5",
   "metadata": {},
   "outputs": [],
   "source": [
    "import pandas as pd\n",
    "from sklearn.model_selection import train_test_split\n",
    "import sys, os\n",
    "\n",
    "sys.path.append(os.path.abspath(os.path.join('..', 'utils')))\n",
    "\n",
    "from data import select_features\n",
    "\n",
    "df = pd.read_csv(\"../data/processed/train.csv\",sep=\",\")\n",
    "\n",
    "X = select_features(df)\n",
    "y = df[\"pollutant\"]\n",
    "\n",
    "X_train, X_test, y_train, y_test = train_test_split(X, y, test_size=0.2, random_state=42)"
   ]
  },
  {
   "cell_type": "markdown",
   "id": "ebf6b371",
   "metadata": {},
   "source": [
    "# Probamos un SVM lineal"
   ]
  },
  {
   "cell_type": "code",
   "execution_count": 2,
   "id": "59f766fc",
   "metadata": {},
   "outputs": [
    {
     "name": "stderr",
     "output_type": "stream",
     "text": [
      "c:\\users\\rocio\\appdata\\local\\programs\\python\\python37\\lib\\site-packages\\sklearn\\svm\\_base.py:1208: ConvergenceWarning: Liblinear failed to converge, increase the number of iterations.\n",
      "  ConvergenceWarning,\n"
     ]
    }
   ],
   "source": [
    "from sklearn.svm import LinearSVC\n",
    "\n",
    "svc1 = LinearSVC(C=2, loss='hinge', max_iter=5000)\n",
    "svc1.fit(X_train, y_train);"
   ]
  },
  {
   "cell_type": "code",
   "execution_count": 3,
   "id": "e41a6b33",
   "metadata": {},
   "outputs": [
    {
     "name": "stdout",
     "output_type": "stream",
     "text": [
      "Primer modelo entrenado (SVM lineal)\n",
      "Accuracy: 0.6045702930948833\n",
      "F1 Score: 0.6317205395977135\n"
     ]
    }
   ],
   "source": [
    "from sklearn.metrics import accuracy_score\n",
    "from sklearn.metrics import f1_score\n",
    "\n",
    "y_hat = svc1.predict(X_test)\n",
    "acc = accuracy_score(y_true=y_test, y_pred=y_hat)\n",
    "f1_s = f1_score(y_true=y_test, y_pred=y_hat, average='macro')\n",
    "\n",
    "print('Primer modelo entrenado (SVM lineal)')\n",
    "print(f'Accuracy: {acc}')\n",
    "print(f'F1 Score: {f1_s}')"
   ]
  },
  {
   "cell_type": "markdown",
   "id": "a35cfd7c",
   "metadata": {},
   "source": [
    "## Creamos el fichero de soluciones generado por nuestro modelo para enviar a Kaggle"
   ]
  },
  {
   "cell_type": "code",
   "execution_count": 4,
   "id": "55865ca0",
   "metadata": {},
   "outputs": [],
   "source": [
    "import kaggle as kg\n",
    "\n",
    "X_sub = kg.generate_submision_df(X_train.columns)\n",
    "kg.generate_submission_file(svc1, X_sub, 10)"
   ]
  },
  {
   "cell_type": "markdown",
   "id": "3e337cae",
   "metadata": {},
   "source": [
    "# Entrenamos varias pipelines que contienen modelos de regresión logística, random forest y SVM con hiperparámetros"
   ]
  },
  {
   "cell_type": "code",
   "execution_count": 5,
   "id": "e5a55c85",
   "metadata": {},
   "outputs": [],
   "source": [
    "import numpy as np\n",
    "from sklearn.model_selection import GridSearchCV\n",
    "from sklearn.pipeline import Pipeline\n",
    "from sklearn.feature_selection import SelectKBest\n",
    "from sklearn.linear_model import LogisticRegression\n",
    "from sklearn.ensemble import RandomForestClassifier\n",
    "from sklearn.preprocessing import StandardScaler\n",
    "from sklearn.feature_selection import SelectKBest\n",
    "from sklearn.impute import SimpleImputer\n",
    "from sklearn.svm import SVC\n",
    "\n",
    "\n",
    "reg_log = Pipeline(steps=[\n",
    "                          (\"imputer\",SimpleImputer()),\n",
    "                          (\"scaler\",StandardScaler()),\n",
    "                          (\"reglog\",LogisticRegression())\n",
    "                         ])\n",
    "\n",
    "rand_forest = Pipeline(steps=[\n",
    "                              (\"randforest\", RandomForestClassifier())\n",
    "                             ])\n",
    "\n",
    "svm = Pipeline(steps=[(\"scaler\",StandardScaler()),\n",
    "                      (\"selectkbest\",SelectKBest()),\n",
    "                      (\"svm\",SVC())])\n",
    "\n",
    "reg_log_param = {    \n",
    "                 \"imputer__strategy\": ['mean', 'median', 'most_frequent'],\n",
    "                 \"reglog__penalty\": [\"none\", \"l1\",\"l2\", \"elasticnet\"], \n",
    "                 \"reglog__solver\": [\"newton-cg\", \"lbfgs\", \"liblinear\", \"sag\", \"saga\"],\n",
    "                 \"reglog__C\": [0.1, 1, 10, 100, 1000],\n",
    "                 \"reglog__max_iter\": [100, 500, 1000] \n",
    "                }\n",
    "\n",
    "rand_forest_param = {\n",
    "    'randforest__n_estimators': [10, 100, 1000],\n",
    "    'randforest__max_depth': [3, 6, 10, 15],\n",
    "    'randforest__min_samples_leaf': [10, 20, 30],\n",
    "    'randforest__max_features': [1, 2, 3, 10, 15, 30]\n",
    "    }\n",
    "\n",
    "svm_param = {                    \n",
    "            'selectkbest__k': [1,2,3],\n",
    "            'svm__C': [0.1, 1, 10, 100, 1000], \n",
    "            'svm__kernel': [\"linear\",\"poly\",\"rbf\"],\n",
    "            'svm__coef0': [-10.,-1., 0., 0.1, 0.5, 1, 10, 100],\n",
    "            'svm__gamma': ('scale', 'auto')\n",
    "            }\n",
    "\n",
    "gs_reg_log = GridSearchCV(reg_log,\n",
    "                            reg_log_param,\n",
    "                            cv=10,\n",
    "                            scoring=\"f1_macro\",\n",
    "                            verbose=1,\n",
    "                            n_jobs=-1)\n",
    "\n",
    "gs_rand_forest = GridSearchCV(rand_forest,\n",
    "                            rand_forest_param,\n",
    "                            cv=10,\n",
    "                            scoring=\"f1_macro\",\n",
    "                            verbose=1,\n",
    "                            n_jobs=-1)\n",
    "\n",
    "gs_svm = GridSearchCV(svm,\n",
    "                        svm_param,\n",
    "                        cv=10,\n",
    "                        scoring=\"f1_macro\",\n",
    "                        verbose=1,\n",
    "                        n_jobs=-1)\n",
    "\n",
    "grids = {\"gs_reg_log\":gs_reg_log,\n",
    "         \"gs_rand_forest\":gs_rand_forest,\n",
    "         \"gs_svm\":gs_svm}"
   ]
  },
  {
   "cell_type": "code",
   "execution_count": null,
   "id": "a5f9adec",
   "metadata": {},
   "outputs": [],
   "source": [
    "%%time\n",
    "\n",
    "for nombre, grid_search in grids.items():\n",
    "    grid_search.fit(X_train, y_train)"
   ]
  },
  {
   "cell_type": "code",
   "execution_count": null,
   "id": "ef58e7c9",
   "metadata": {},
   "outputs": [],
   "source": [
    "best_grids = [(i, j.best_score_) for i, j in grids.items()]\n",
    "\n",
    "best_grids = pd.DataFrame(best_grids, columns=[\"Grid\", \"Best score\"]).sort_values(by=\"Best score\", ascending=False)\n",
    "best_grids"
   ]
  },
  {
   "cell_type": "code",
   "execution_count": null,
   "id": "4adf3026",
   "metadata": {},
   "outputs": [],
   "source": [
    "print('El mejor modelo ha sido:')\n",
    "best_model = grids[\"gs_reg_log\"]\n",
    "best_model"
   ]
  },
  {
   "cell_type": "code",
   "execution_count": null,
   "id": "8896014a",
   "metadata": {},
   "outputs": [],
   "source": [
    "mejor_modelo = best_model.best_estimator_\n",
    "mejor_modelo"
   ]
  },
  {
   "cell_type": "markdown",
   "id": "727b0c34",
   "metadata": {},
   "source": [
    "## Calculamos F1 score para el mejor modelo encontrado con nuestro conjunto de datos de test"
   ]
  },
  {
   "cell_type": "code",
   "execution_count": null,
   "id": "73da9e11",
   "metadata": {},
   "outputs": [],
   "source": [
    "y_hat = mejor_modelo.predict(X_test)\n",
    "f1_s = f1_score(y_true=y_test, y_pred=y_hat, average='macro')\n",
    "print('Evaluando el mejor modelo encontrado utilizando datos de test')\n",
    "print(f'F1 Score: {f1_s}')"
   ]
  },
  {
   "cell_type": "markdown",
   "id": "7a48fc54",
   "metadata": {},
   "source": [
    "# Analizamos cómo de bueno es nuestro mejor modelo encontrado"
   ]
  },
  {
   "cell_type": "markdown",
   "id": "07383fea",
   "metadata": {},
   "source": [
    "## Mostramos la matriz de confusión del modelo para ver cómo de efectivo es"
   ]
  },
  {
   "cell_type": "code",
   "execution_count": null,
   "id": "915f1f75",
   "metadata": {},
   "outputs": [],
   "source": [
    "from yellowbrick.classifier import ConfusionMatrix\n",
    "\n",
    "cm = ConfusionMatrix(mejor_modelo)\n",
    "cm.fit(X_train, y_train)\n",
    "cm.score(X_test, y_test)\n",
    "cm.show();"
   ]
  },
  {
   "cell_type": "markdown",
   "id": "4c2479c8",
   "metadata": {},
   "source": [
    "## Visualizamos la curva ROC AUC del modelo"
   ]
  },
  {
   "cell_type": "code",
   "execution_count": null,
   "id": "80a152ab",
   "metadata": {},
   "outputs": [],
   "source": [
    "from yellowbrick.classifier import ROCAUC\n",
    "\n",
    "visualizer = ROCAUC(mejor_modelo)\n",
    "visualizer.fit(X_train, y_train)\n",
    "visualizer.score(X_test, y_test)\n",
    "visualizer.show();"
   ]
  },
  {
   "cell_type": "markdown",
   "id": "f6125af7",
   "metadata": {},
   "source": [
    "## Visualizamos la curva Precision-Recall del modelo"
   ]
  },
  {
   "cell_type": "code",
   "execution_count": null,
   "id": "243d0985",
   "metadata": {},
   "outputs": [],
   "source": [
    "from yellowbrick.classifier import PrecisionRecallCurve\n",
    "\n",
    "viz = PrecisionRecallCurve(mejor_modelo)\n",
    "viz.fit(X_train, y_train)\n",
    "viz.score(X_test, y_test)\n",
    "viz.show();"
   ]
  },
  {
   "cell_type": "markdown",
   "id": "cba9c624",
   "metadata": {},
   "source": [
    "Vemos que el modelo es realmente bueno al predecir Methane (CH4) con las otras dos clases (clase 0 y clase 1) comete más fallos."
   ]
  },
  {
   "cell_type": "markdown",
   "id": "e6d3e87f",
   "metadata": {},
   "source": [
    "Generamos ahora el fichero con la solución para evaluación en Kaggle utilizando nuestro mejor modelo."
   ]
  },
  {
   "cell_type": "code",
   "execution_count": null,
   "id": "52e60320",
   "metadata": {},
   "outputs": [],
   "source": [
    "generate_submission_file(mejor_modelo, X_sub, 12)"
   ]
  },
  {
   "cell_type": "markdown",
   "id": "5cf8a7b1",
   "metadata": {},
   "source": [
    "# Analizamos el segundo mejor modelo que hemos encontrado"
   ]
  },
  {
   "cell_type": "markdown",
   "id": "c160f1e1",
   "metadata": {},
   "source": [
    "Con Random Forest, teníamos un F1 score muy cercano al modelo de regresión logística, por lo que vamos a estudiar las características de ese modelo."
   ]
  },
  {
   "cell_type": "markdown",
   "id": "019360da",
   "metadata": {},
   "source": [
    "## Mostramos la matriz de confusión del modelo para ver cómo de efectivo es"
   ]
  },
  {
   "cell_type": "code",
   "execution_count": null,
   "id": "c4b1c553",
   "metadata": {},
   "outputs": [],
   "source": [
    "mejor_random_forest = grids['gs_rand_forest'].best_estimator_\n",
    "\n",
    "cm = ConfusionMatrix(mejor_random_forest)\n",
    "cm.fit(X_train, y_train)\n",
    "cm.score(X_test, y_test)\n",
    "cm.show();"
   ]
  },
  {
   "cell_type": "markdown",
   "id": "b16d6f4b",
   "metadata": {},
   "source": [
    "## Visualizamos la curva ROC AUC del modelo"
   ]
  },
  {
   "cell_type": "code",
   "execution_count": null,
   "id": "ddd6747e",
   "metadata": {},
   "outputs": [],
   "source": [
    "visualizer = ROCAUC(mejor_random_forest)\n",
    "visualizer.fit(X_train, y_train)\n",
    "visualizer.score(X_test, y_test)\n",
    "visualizer.show();"
   ]
  },
  {
   "cell_type": "markdown",
   "id": "a49c6c13",
   "metadata": {},
   "source": [
    "## Visualizamos la curva Precision-Recall del modelo"
   ]
  },
  {
   "cell_type": "code",
   "execution_count": null,
   "id": "2158c535",
   "metadata": {},
   "outputs": [],
   "source": [
    "viz = PrecisionRecallCurve(mejor_random_forest)\n",
    "viz.fit(X_train, y_train)\n",
    "viz.score(X_test, y_test)\n",
    "viz.show();"
   ]
  },
  {
   "cell_type": "markdown",
   "id": "a545c39a",
   "metadata": {},
   "source": [
    "Aunque nuestro mejor modelo generado con random forest tiene un F1 score muy similar al mejor modelo generado con regresión logística, podemos ver que el random forest acierta un poco más al predecir Methane (CH4), pero falla más con los otros dos contaminantes. Por lo tanto, podemos decir que es menos generalista que el otro modelo."
   ]
  },
  {
   "cell_type": "markdown",
   "id": "374c7250",
   "metadata": {},
   "source": [
    "Generamos ahora el fichero con la solución para evaluación en Kaggle utilizando el mejor random forest que hemos obtenido."
   ]
  },
  {
   "cell_type": "code",
   "execution_count": null,
   "id": "eea5f1c1",
   "metadata": {},
   "outputs": [],
   "source": [
    "generate_submission_file(mejor_random_forest, X_sub, 11)"
   ]
  },
  {
   "cell_type": "markdown",
   "id": "42840d7d",
   "metadata": {},
   "source": [
    "# Resultado final en Kaggle"
   ]
  },
  {
   "cell_type": "markdown",
   "id": "f1390a35",
   "metadata": {},
   "source": [
    "Al hacer submit en Kaggle, vemos que el modelo de random forest tiene un mejor score, pese a que al calcular nosotros el F1 score nos salía que el modelo con regresión logística era mejor.\n",
    "\n",
    "Analizando los valores predichos por ambos modelos y viendo el número de ocurrencias de *Methane (CH4)* (valor 2), vemos que el modelo de regresión logística predice más ocurrencias:"
   ]
  },
  {
   "cell_type": "code",
   "execution_count": null,
   "id": "bf21e1ef",
   "metadata": {},
   "outputs": [],
   "source": [
    "mejor_modelo.predict(X_sub).tolist().count(2)"
   ]
  },
  {
   "cell_type": "code",
   "execution_count": null,
   "id": "592684c1",
   "metadata": {},
   "outputs": [],
   "source": [
    "mejor_random_forest.predict(X_sub).tolist().count(2)"
   ]
  },
  {
   "cell_type": "markdown",
   "id": "c44a7ce0",
   "metadata": {},
   "source": [
    "Precisamente para Methane (CH4) (valor 2), el modelo de random forest hace mejores predicciones, lo que explica que para este conjunto de datos precisamente funcione mejor y, por lo tanto, tenga un score mejor en Kaggle."
   ]
  }
 ],
 "metadata": {
  "kernelspec": {
   "display_name": "Python 3 (ipykernel)",
   "language": "python",
   "name": "python3"
  },
  "language_info": {
   "codemirror_mode": {
    "name": "ipython",
    "version": 3
   },
   "file_extension": ".py",
   "mimetype": "text/x-python",
   "name": "python",
   "nbconvert_exporter": "python",
   "pygments_lexer": "ipython3",
   "version": "3.7.4"
  }
 },
 "nbformat": 4,
 "nbformat_minor": 5
}
