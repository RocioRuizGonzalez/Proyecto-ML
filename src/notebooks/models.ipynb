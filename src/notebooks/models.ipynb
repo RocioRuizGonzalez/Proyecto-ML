{
 "cells": [
  {
   "cell_type": "code",
   "execution_count": 1,
   "metadata": {},
   "outputs": [],
   "source": [
    "import pandas as pd\n",
    "from sklearn.model_selection import train_test_split\n",
    "import sys, os\n",
    "\n",
    "sys.path.append(os.path.abspath(os.path.join('..', 'utils')))\n",
    "\n",
    "from data import select_features\n",
    "\n",
    "df = pd.read_csv(\"../data/processed/train.csv\",sep=\",\")\n",
    "\n",
    "X = select_features(df)\n",
    "y = df[\"pollutant\"]\n",
    "\n",
    "X_train, X_test, y_train, y_test = train_test_split(X, y, test_size=0.2, random_state=42)"
   ]
  },
  {
   "cell_type": "markdown",
   "metadata": {},
   "source": [
    "# Probamos un SVM lineal"
   ]
  },
  {
   "cell_type": "code",
   "execution_count": 5,
   "metadata": {},
   "outputs": [
    {
     "name": "stderr",
     "output_type": "stream",
     "text": [
      "/Users/jagudo/.pyenv/versions/3.7.0/lib/python3.7/site-packages/sklearn/svm/_base.py:1208: ConvergenceWarning: Liblinear failed to converge, increase the number of iterations.\n",
      "  ConvergenceWarning,\n"
     ]
    }
   ],
   "source": [
    "from sklearn.svm import LinearSVC\n",
    "\n",
    "svc1 = LinearSVC(C=2, loss='hinge', max_iter=5000)\n",
    "svc1.fit(X_train, y_train);"
   ]
  },
  {
   "cell_type": "code",
   "execution_count": 6,
   "metadata": {},
   "outputs": [
    {
     "name": "stdout",
     "output_type": "stream",
     "text": [
      "Primer modelo entrenado (SVM lineal)\n",
      "Accuracy: 0.6140089418777943\n",
      "F1 Score: 0.6237862045417008\n"
     ]
    }
   ],
   "source": [
    "from sklearn.metrics import accuracy_score\n",
    "from sklearn.metrics import f1_score\n",
    "\n",
    "y_hat = svc1.predict(X_test)\n",
    "acc = accuracy_score(y_true=y_test, y_pred=y_hat)\n",
    "f1_s = f1_score(y_true=y_test, y_pred=y_hat, average='macro')\n",
    "\n",
    "print('Primer modelo entrenado (SVM lineal)')\n",
    "print(f'Accuracy: {acc}')\n",
    "print(f'F1 Score: {f1_s}')"
   ]
  },
  {
   "cell_type": "markdown",
   "metadata": {},
   "source": [
    "## Creamos el fichero de soluciones generado por nuestro modelo para enviar a Kaggle"
   ]
  },
  {
   "cell_type": "code",
   "execution_count": 8,
   "metadata": {},
   "outputs": [],
   "source": [
    "import kaggle as kg\n",
    "\n",
    "X_sub = kg.generate_submision_df(X_train.columns)\n",
    "kg.generate_submission_file(svc1, X_sub, 10)"
   ]
  },
  {
   "cell_type": "markdown",
   "metadata": {},
   "source": [
    "# Entrenamos varias pipelines que contienen modelos de regresión logística, random forest y SVM con hiperparámetros"
   ]
  },
  {
   "cell_type": "code",
   "execution_count": 9,
   "metadata": {},
   "outputs": [],
   "source": [
    "import numpy as np\n",
    "from sklearn.model_selection import GridSearchCV\n",
    "from sklearn.pipeline import Pipeline\n",
    "from sklearn.feature_selection import SelectKBest\n",
    "from sklearn.linear_model import LogisticRegression\n",
    "from sklearn.ensemble import RandomForestClassifier\n",
    "from sklearn.preprocessing import StandardScaler\n",
    "from sklearn.feature_selection import SelectKBest\n",
    "from sklearn.impute import SimpleImputer\n",
    "from sklearn.svm import SVC\n",
    "\n",
    "\n",
    "reg_log = Pipeline(steps=[\n",
    "                          (\"imputer\",SimpleImputer()),\n",
    "                          (\"scaler\",StandardScaler()),\n",
    "                          (\"reglog\",LogisticRegression())\n",
    "                         ])\n",
    "\n",
    "rand_forest = Pipeline(steps=[\n",
    "                              (\"randforest\", RandomForestClassifier())\n",
    "                             ])\n",
    "\n",
    "svm = Pipeline(steps=[(\"scaler\",StandardScaler()),\n",
    "                      (\"selectkbest\",SelectKBest()),\n",
    "                      (\"svm\",SVC())])\n",
    "\n",
    "reg_log_param = {    \n",
    "                 \"imputer__strategy\": ['mean', 'median', 'most_frequent'],\n",
    "                 \"reglog__penalty\": [\"none\", \"l1\",\"l2\", \"elasticnet\"], \n",
    "                 \"reglog__solver\": [\"newton-cg\", \"lbfgs\", \"liblinear\", \"sag\", \"saga\"],\n",
    "                 \"reglog__C\": [0.1, 1, 10, 100, 1000],\n",
    "                 \"reglog__max_iter\": [100, 500, 1000] \n",
    "                }\n",
    "\n",
    "rand_forest_param = {\n",
    "    'randforest__n_estimators': [10, 100, 1000],\n",
    "    'randforest__max_depth': [3, 6, 10, 15],\n",
    "    'randforest__min_samples_leaf': [10, 20, 30],\n",
    "    'randforest__max_features': [1, 2, 3, 10, 15, 30]\n",
    "    }\n",
    "\n",
    "svm_param = {                    \n",
    "            'selectkbest__k': [1,2,3],\n",
    "            'svm__C': [0.1, 1, 10, 100, 1000], \n",
    "            'svm__kernel': [\"linear\",\"poly\",\"rbf\"],\n",
    "            'svm__coef0': [-10.,-1., 0., 0.1, 0.5, 1, 10, 100],\n",
    "            'svm__gamma': ('scale', 'auto')\n",
    "            }\n",
    "\n",
    "gs_reg_log = GridSearchCV(reg_log,\n",
    "                            reg_log_param,\n",
    "                            cv=10,\n",
    "                            scoring=\"f1_macro\",\n",
    "                            verbose=1,\n",
    "                            n_jobs=-1)\n",
    "\n",
    "gs_rand_forest = GridSearchCV(rand_forest,\n",
    "                            rand_forest_param,\n",
    "                            cv=10,\n",
    "                            scoring=\"f1_macro\",\n",
    "                            verbose=1,\n",
    "                            n_jobs=-1)\n",
    "\n",
    "gs_svm = GridSearchCV(svm,\n",
    "                        svm_param,\n",
    "                        cv=10,\n",
    "                        scoring=\"f1_macro\",\n",
    "                        verbose=1,\n",
    "                        n_jobs=-1)\n",
    "\n",
    "grids = {\"gs_reg_log\":gs_reg_log,\n",
    "         \"gs_rand_forest\":gs_rand_forest,\n",
    "         \"gs_svm\":gs_svm}"
   ]
  },
  {
   "cell_type": "code",
   "execution_count": 10,
   "metadata": {},
   "outputs": [
    {
     "name": "stdout",
     "output_type": "stream",
     "text": [
      "Fitting 10 folds for each of 900 candidates, totalling 9000 fits\n"
     ]
    },
    {
     "name": "stderr",
     "output_type": "stream",
     "text": [
      "/Users/jagudo/.pyenv/versions/3.7.0/lib/python3.7/site-packages/sklearn/model_selection/_validation.py:372: FitFailedWarning: \n",
      "4050 fits failed out of a total of 9000.\n",
      "The score on these train-test partitions for these parameters will be set to nan.\n",
      "If these failures are not expected, you can try to debug them by setting error_score='raise'.\n",
      "\n",
      "Below are more details about the failures:\n",
      "--------------------------------------------------------------------------------\n",
      "450 fits failed with the following error:\n",
      "Traceback (most recent call last):\n",
      "  File \"/Users/jagudo/.pyenv/versions/3.7.0/lib/python3.7/site-packages/sklearn/model_selection/_validation.py\", line 680, in _fit_and_score\n",
      "    estimator.fit(X_train, y_train, **fit_params)\n",
      "  File \"/Users/jagudo/.pyenv/versions/3.7.0/lib/python3.7/site-packages/sklearn/pipeline.py\", line 394, in fit\n",
      "    self._final_estimator.fit(Xt, y, **fit_params_last_step)\n",
      "  File \"/Users/jagudo/.pyenv/versions/3.7.0/lib/python3.7/site-packages/sklearn/linear_model/_logistic.py\", line 1461, in fit\n",
      "    solver = _check_solver(self.solver, self.penalty, self.dual)\n",
      "  File \"/Users/jagudo/.pyenv/versions/3.7.0/lib/python3.7/site-packages/sklearn/linear_model/_logistic.py\", line 464, in _check_solver\n",
      "    raise ValueError(\"penalty='none' is not supported for the liblinear solver\")\n",
      "ValueError: penalty='none' is not supported for the liblinear solver\n",
      "\n",
      "--------------------------------------------------------------------------------\n",
      "450 fits failed with the following error:\n",
      "Traceback (most recent call last):\n",
      "  File \"/Users/jagudo/.pyenv/versions/3.7.0/lib/python3.7/site-packages/sklearn/model_selection/_validation.py\", line 680, in _fit_and_score\n",
      "    estimator.fit(X_train, y_train, **fit_params)\n",
      "  File \"/Users/jagudo/.pyenv/versions/3.7.0/lib/python3.7/site-packages/sklearn/pipeline.py\", line 394, in fit\n",
      "    self._final_estimator.fit(Xt, y, **fit_params_last_step)\n",
      "  File \"/Users/jagudo/.pyenv/versions/3.7.0/lib/python3.7/site-packages/sklearn/linear_model/_logistic.py\", line 1461, in fit\n",
      "    solver = _check_solver(self.solver, self.penalty, self.dual)\n",
      "  File \"/Users/jagudo/.pyenv/versions/3.7.0/lib/python3.7/site-packages/sklearn/linear_model/_logistic.py\", line 449, in _check_solver\n",
      "    % (solver, penalty)\n",
      "ValueError: Solver newton-cg supports only 'l2' or 'none' penalties, got l1 penalty.\n",
      "\n",
      "--------------------------------------------------------------------------------\n",
      "450 fits failed with the following error:\n",
      "Traceback (most recent call last):\n",
      "  File \"/Users/jagudo/.pyenv/versions/3.7.0/lib/python3.7/site-packages/sklearn/model_selection/_validation.py\", line 680, in _fit_and_score\n",
      "    estimator.fit(X_train, y_train, **fit_params)\n",
      "  File \"/Users/jagudo/.pyenv/versions/3.7.0/lib/python3.7/site-packages/sklearn/pipeline.py\", line 394, in fit\n",
      "    self._final_estimator.fit(Xt, y, **fit_params_last_step)\n",
      "  File \"/Users/jagudo/.pyenv/versions/3.7.0/lib/python3.7/site-packages/sklearn/linear_model/_logistic.py\", line 1461, in fit\n",
      "    solver = _check_solver(self.solver, self.penalty, self.dual)\n",
      "  File \"/Users/jagudo/.pyenv/versions/3.7.0/lib/python3.7/site-packages/sklearn/linear_model/_logistic.py\", line 449, in _check_solver\n",
      "    % (solver, penalty)\n",
      "ValueError: Solver lbfgs supports only 'l2' or 'none' penalties, got l1 penalty.\n",
      "\n",
      "--------------------------------------------------------------------------------\n",
      "450 fits failed with the following error:\n",
      "Traceback (most recent call last):\n",
      "  File \"/Users/jagudo/.pyenv/versions/3.7.0/lib/python3.7/site-packages/sklearn/model_selection/_validation.py\", line 680, in _fit_and_score\n",
      "    estimator.fit(X_train, y_train, **fit_params)\n",
      "  File \"/Users/jagudo/.pyenv/versions/3.7.0/lib/python3.7/site-packages/sklearn/pipeline.py\", line 394, in fit\n",
      "    self._final_estimator.fit(Xt, y, **fit_params_last_step)\n",
      "  File \"/Users/jagudo/.pyenv/versions/3.7.0/lib/python3.7/site-packages/sklearn/linear_model/_logistic.py\", line 1461, in fit\n",
      "    solver = _check_solver(self.solver, self.penalty, self.dual)\n",
      "  File \"/Users/jagudo/.pyenv/versions/3.7.0/lib/python3.7/site-packages/sklearn/linear_model/_logistic.py\", line 449, in _check_solver\n",
      "    % (solver, penalty)\n",
      "ValueError: Solver sag supports only 'l2' or 'none' penalties, got l1 penalty.\n",
      "\n",
      "--------------------------------------------------------------------------------\n",
      "450 fits failed with the following error:\n",
      "Traceback (most recent call last):\n",
      "  File \"/Users/jagudo/.pyenv/versions/3.7.0/lib/python3.7/site-packages/sklearn/model_selection/_validation.py\", line 680, in _fit_and_score\n",
      "    estimator.fit(X_train, y_train, **fit_params)\n",
      "  File \"/Users/jagudo/.pyenv/versions/3.7.0/lib/python3.7/site-packages/sklearn/pipeline.py\", line 394, in fit\n",
      "    self._final_estimator.fit(Xt, y, **fit_params_last_step)\n",
      "  File \"/Users/jagudo/.pyenv/versions/3.7.0/lib/python3.7/site-packages/sklearn/linear_model/_logistic.py\", line 1461, in fit\n",
      "    solver = _check_solver(self.solver, self.penalty, self.dual)\n",
      "  File \"/Users/jagudo/.pyenv/versions/3.7.0/lib/python3.7/site-packages/sklearn/linear_model/_logistic.py\", line 449, in _check_solver\n",
      "    % (solver, penalty)\n",
      "ValueError: Solver newton-cg supports only 'l2' or 'none' penalties, got elasticnet penalty.\n",
      "\n",
      "--------------------------------------------------------------------------------\n",
      "450 fits failed with the following error:\n",
      "Traceback (most recent call last):\n",
      "  File \"/Users/jagudo/.pyenv/versions/3.7.0/lib/python3.7/site-packages/sklearn/model_selection/_validation.py\", line 680, in _fit_and_score\n",
      "    estimator.fit(X_train, y_train, **fit_params)\n",
      "  File \"/Users/jagudo/.pyenv/versions/3.7.0/lib/python3.7/site-packages/sklearn/pipeline.py\", line 394, in fit\n",
      "    self._final_estimator.fit(Xt, y, **fit_params_last_step)\n",
      "  File \"/Users/jagudo/.pyenv/versions/3.7.0/lib/python3.7/site-packages/sklearn/linear_model/_logistic.py\", line 1461, in fit\n",
      "    solver = _check_solver(self.solver, self.penalty, self.dual)\n",
      "  File \"/Users/jagudo/.pyenv/versions/3.7.0/lib/python3.7/site-packages/sklearn/linear_model/_logistic.py\", line 449, in _check_solver\n",
      "    % (solver, penalty)\n",
      "ValueError: Solver lbfgs supports only 'l2' or 'none' penalties, got elasticnet penalty.\n",
      "\n",
      "--------------------------------------------------------------------------------\n",
      "450 fits failed with the following error:\n",
      "Traceback (most recent call last):\n",
      "  File \"/Users/jagudo/.pyenv/versions/3.7.0/lib/python3.7/site-packages/sklearn/model_selection/_validation.py\", line 680, in _fit_and_score\n",
      "    estimator.fit(X_train, y_train, **fit_params)\n",
      "  File \"/Users/jagudo/.pyenv/versions/3.7.0/lib/python3.7/site-packages/sklearn/pipeline.py\", line 394, in fit\n",
      "    self._final_estimator.fit(Xt, y, **fit_params_last_step)\n",
      "  File \"/Users/jagudo/.pyenv/versions/3.7.0/lib/python3.7/site-packages/sklearn/linear_model/_logistic.py\", line 1461, in fit\n",
      "    solver = _check_solver(self.solver, self.penalty, self.dual)\n",
      "  File \"/Users/jagudo/.pyenv/versions/3.7.0/lib/python3.7/site-packages/sklearn/linear_model/_logistic.py\", line 459, in _check_solver\n",
      "    solver\n",
      "ValueError: Only 'saga' solver supports elasticnet penalty, got solver=liblinear.\n",
      "\n",
      "--------------------------------------------------------------------------------\n",
      "450 fits failed with the following error:\n",
      "Traceback (most recent call last):\n",
      "  File \"/Users/jagudo/.pyenv/versions/3.7.0/lib/python3.7/site-packages/sklearn/model_selection/_validation.py\", line 680, in _fit_and_score\n",
      "    estimator.fit(X_train, y_train, **fit_params)\n",
      "  File \"/Users/jagudo/.pyenv/versions/3.7.0/lib/python3.7/site-packages/sklearn/pipeline.py\", line 394, in fit\n",
      "    self._final_estimator.fit(Xt, y, **fit_params_last_step)\n",
      "  File \"/Users/jagudo/.pyenv/versions/3.7.0/lib/python3.7/site-packages/sklearn/linear_model/_logistic.py\", line 1461, in fit\n",
      "    solver = _check_solver(self.solver, self.penalty, self.dual)\n",
      "  File \"/Users/jagudo/.pyenv/versions/3.7.0/lib/python3.7/site-packages/sklearn/linear_model/_logistic.py\", line 449, in _check_solver\n",
      "    % (solver, penalty)\n",
      "ValueError: Solver sag supports only 'l2' or 'none' penalties, got elasticnet penalty.\n",
      "\n",
      "--------------------------------------------------------------------------------\n",
      "450 fits failed with the following error:\n",
      "Traceback (most recent call last):\n",
      "  File \"/Users/jagudo/.pyenv/versions/3.7.0/lib/python3.7/site-packages/sklearn/model_selection/_validation.py\", line 680, in _fit_and_score\n",
      "    estimator.fit(X_train, y_train, **fit_params)\n",
      "  File \"/Users/jagudo/.pyenv/versions/3.7.0/lib/python3.7/site-packages/sklearn/pipeline.py\", line 394, in fit\n",
      "    self._final_estimator.fit(Xt, y, **fit_params_last_step)\n",
      "  File \"/Users/jagudo/.pyenv/versions/3.7.0/lib/python3.7/site-packages/sklearn/linear_model/_logistic.py\", line 1473, in fit\n",
      "    % self.l1_ratio\n",
      "ValueError: l1_ratio must be between 0 and 1; got (l1_ratio=None)\n",
      "\n",
      "  warnings.warn(some_fits_failed_message, FitFailedWarning)\n",
      "/Users/jagudo/.pyenv/versions/3.7.0/lib/python3.7/site-packages/sklearn/model_selection/_search.py:972: UserWarning: One or more of the test scores are non-finite: [0.64637532 0.64673832        nan 0.64686814 0.64688893        nan\n",
      "        nan 0.64536167        nan 0.64445344 0.64643856 0.64643856\n",
      " 0.64688543 0.64659249 0.64659579        nan        nan        nan\n",
      "        nan        nan 0.64637532 0.64652557        nan 0.64631733\n",
      " 0.64641906        nan        nan 0.64529353        nan 0.64504776\n",
      " 0.64643856 0.64643856 0.64688543 0.64643856 0.64638947        nan\n",
      "        nan        nan        nan        nan 0.64637532 0.64652557\n",
      "        nan 0.64637532 0.64631733        nan        nan 0.64530603\n",
      "        nan 0.64487559 0.64643856 0.64643856 0.64688543 0.64643856\n",
      " 0.64638947        nan        nan        nan        nan        nan\n",
      " 0.64637532 0.64673832        nan 0.64681905 0.64672191        nan\n",
      "        nan 0.64617479        nan 0.64613254 0.64625715 0.64636815\n",
      " 0.64683328 0.64676112 0.64678938        nan        nan        nan\n",
      "        nan        nan 0.64637532 0.64652557        nan 0.64631733\n",
      " 0.64641906        nan        nan 0.64634324        nan 0.6467996\n",
      " 0.64625715 0.64630803 0.64683328 0.64625715 0.6464097         nan\n",
      "        nan        nan        nan        nan 0.64637532 0.64652557\n",
      "        nan 0.64637532 0.64631733        nan        nan 0.64623326\n",
      "        nan 0.64668161 0.64625715 0.64630803 0.64683328 0.64625715\n",
      " 0.646308          nan        nan        nan        nan        nan\n",
      " 0.64637532 0.64673832        nan 0.64681044 0.64666495        nan\n",
      "        nan 0.6468271         nan 0.64659481 0.64637532 0.64657876\n",
      " 0.64694371 0.64681905 0.64656222        nan        nan        nan\n",
      "        nan        nan 0.64637532 0.64652557        nan 0.64631733\n",
      " 0.64641906        nan        nan 0.64687631        nan 0.64650874\n",
      " 0.64637532 0.64637434 0.64694371 0.64631733 0.64641906        nan\n",
      "        nan        nan        nan        nan 0.64637532 0.64652557\n",
      "        nan 0.64637532 0.64631733        nan        nan 0.64687631\n",
      "        nan 0.646308   0.64637532 0.64637434 0.64694371 0.64637532\n",
      " 0.64631733        nan        nan        nan        nan        nan\n",
      " 0.64637532 0.64673832        nan 0.64687004 0.64682221        nan\n",
      "        nan 0.64684635        nan 0.64689154 0.64637532 0.64679892\n",
      " 0.64688269 0.64681905 0.64688998        nan        nan        nan\n",
      "        nan        nan 0.64637532 0.64652557        nan 0.64631733\n",
      " 0.64641906        nan        nan 0.64657641        nan 0.64641906\n",
      " 0.64637532 0.64637526 0.64688269 0.64631733 0.64641906        nan\n",
      "        nan        nan        nan        nan 0.64637532 0.64652557\n",
      "        nan 0.64637532 0.64631733        nan        nan 0.64638712\n",
      "        nan 0.64631733 0.64637532 0.64637526 0.64688269 0.64637532\n",
      " 0.64631733        nan        nan        nan        nan        nan\n",
      " 0.64637532 0.64673832        nan 0.64681905 0.64677952        nan\n",
      "        nan 0.64651711        nan 0.64673853 0.64637532 0.64685663\n",
      " 0.64688269 0.64681905 0.64683845        nan        nan        nan\n",
      "        nan        nan 0.64637532 0.64652557        nan 0.64631733\n",
      " 0.64641906        nan        nan 0.64621509        nan 0.64641906\n",
      " 0.64637532 0.64626593 0.64688269 0.64631733 0.64641906        nan\n",
      "        nan        nan        nan        nan 0.64637532 0.64652557\n",
      "        nan 0.64637532 0.64631733        nan        nan 0.64663327\n",
      "        nan 0.64631733 0.64637532 0.64626593 0.64688269 0.64637532\n",
      " 0.64631733        nan        nan        nan        nan        nan\n",
      " 0.64637532 0.64673832        nan 0.64686814 0.6466728         nan\n",
      "        nan 0.64530462        nan 0.64445344 0.64643856 0.64643856\n",
      " 0.64688543 0.64649046 0.64670286        nan        nan        nan\n",
      "        nan        nan 0.64637532 0.64652557        nan 0.64631733\n",
      " 0.64641906        nan        nan 0.6455115         nan 0.64504776\n",
      " 0.64643856 0.64643856 0.64688543 0.64643856 0.64643856        nan\n",
      "        nan        nan        nan        nan 0.64637532 0.64652557\n",
      "        nan 0.64637532 0.64631733        nan        nan 0.64541411\n",
      "        nan 0.64482683 0.64643856 0.64643856 0.64688543 0.64643856\n",
      " 0.64643856        nan        nan        nan        nan        nan\n",
      " 0.64637532 0.64673832        nan 0.64681044 0.64657074        nan\n",
      "        nan 0.6462925         nan 0.64613254 0.64625715 0.64636815\n",
      " 0.64683328 0.64681905 0.64661379        nan        nan        nan\n",
      "        nan        nan 0.64637532 0.64652557        nan 0.64631733\n",
      " 0.64641906        nan        nan 0.64624187        nan 0.6467996\n",
      " 0.64625715 0.64630803 0.64683328 0.64625715 0.6464097         nan\n",
      "        nan        nan        nan        nan 0.64637532 0.64652557\n",
      "        nan 0.64637532 0.64631733        nan        nan 0.64633338\n",
      "        nan 0.64673095 0.64625715 0.64630803 0.64683328 0.64625715\n",
      " 0.646308          nan        nan        nan        nan        nan\n",
      " 0.64637532 0.64673832        nan 0.64681905 0.64667162        nan\n",
      "        nan 0.64687454        nan 0.6465964  0.64637532 0.64657876\n",
      " 0.64694371 0.64681905 0.64667402        nan        nan        nan\n",
      "        nan        nan 0.64637532 0.64652557        nan 0.64631733\n",
      " 0.64641906        nan        nan 0.64687631        nan 0.64650874\n",
      " 0.64637532 0.64637434 0.64694371 0.64631733 0.64641906        nan\n",
      "        nan        nan        nan        nan 0.64637532 0.64652557\n",
      "        nan 0.64637532 0.64631733        nan        nan 0.64687631\n",
      "        nan 0.646308   0.64637532 0.64637434 0.64694371 0.64637532\n",
      " 0.64631733        nan        nan        nan        nan        nan\n",
      " 0.64637532 0.64673832        nan 0.64676135 0.64694093        nan\n",
      "        nan 0.64683266        nan 0.64683035 0.64637532 0.64679892\n",
      " 0.64688269 0.64676135 0.64684091        nan        nan        nan\n",
      "        nan        nan 0.64637532 0.64652557        nan 0.64631733\n",
      " 0.64641906        nan        nan 0.64648593        nan 0.64641906\n",
      " 0.64637532 0.64637526 0.64688269 0.64631733 0.64641906        nan\n",
      "        nan        nan        nan        nan 0.64637532 0.64652557\n",
      "        nan 0.64637532 0.64631733        nan        nan 0.64645799\n",
      "        nan 0.64631733 0.64637532 0.64637526 0.64688269 0.64637532\n",
      " 0.64631733        nan        nan        nan        nan        nan\n",
      " 0.64637532 0.64673832        nan 0.64681905 0.64671587        nan\n",
      "        nan 0.64608122        nan 0.64672072 0.64637532 0.64685663\n",
      " 0.64688269 0.64676135 0.64678938        nan        nan        nan\n",
      "        nan        nan 0.64637532 0.64652557        nan 0.64631733\n",
      " 0.64646899        nan        nan 0.64630838        nan 0.64641906\n",
      " 0.64637532 0.64626593 0.64688269 0.64631733 0.64641906        nan\n",
      "        nan        nan        nan        nan 0.64637532 0.64652557\n",
      "        nan 0.64637532 0.64631733        nan        nan 0.64621307\n",
      "        nan 0.64631733 0.64637532 0.64626593 0.64688269 0.64637532\n",
      " 0.64631733        nan        nan        nan        nan        nan\n",
      " 0.64637532 0.64673832        nan 0.64676112 0.64672187        nan\n",
      "        nan 0.6455115         nan 0.64450336 0.64643856 0.64643856\n",
      " 0.64688543 0.64659899 0.646652          nan        nan        nan\n",
      "        nan        nan 0.64637532 0.64652557        nan 0.64631733\n",
      " 0.64641906        nan        nan 0.64546248        nan 0.64504776\n",
      " 0.64643856 0.64643856 0.64688543 0.64643856 0.64643856        nan\n",
      "        nan        nan        nan        nan 0.64637532 0.64652557\n",
      "        nan 0.64637532 0.64631733        nan        nan 0.64541405\n",
      "        nan 0.64482683 0.64643856 0.64643856 0.64688543 0.64643856\n",
      " 0.64643856        nan        nan        nan        nan        nan\n",
      " 0.64637532 0.64673832        nan 0.64687004 0.64678246        nan\n",
      "        nan 0.64622542        nan 0.64613254 0.64625715 0.64636815\n",
      " 0.64683328 0.64681905 0.64661163        nan        nan        nan\n",
      "        nan        nan 0.64637532 0.64652557        nan 0.64631733\n",
      " 0.64641906        nan        nan 0.64624187        nan 0.6467996\n",
      " 0.64625715 0.64630803 0.64683328 0.64625715 0.6464097         nan\n",
      "        nan        nan        nan        nan 0.64637532 0.64652557\n",
      "        nan 0.64637532 0.64631733        nan        nan 0.646284\n",
      "        nan 0.64668161 0.64625715 0.64630803 0.64683328 0.64625715\n",
      " 0.646308          nan        nan        nan        nan        nan\n",
      " 0.64637532 0.64673832        nan 0.64681905 0.64689154        nan\n",
      "        nan 0.64687631        nan 0.64676151 0.64637532 0.64657876\n",
      " 0.64694371 0.64687004 0.64662922        nan        nan        nan\n",
      "        nan        nan 0.64637532 0.64652557        nan 0.64631733\n",
      " 0.64641906        nan        nan 0.64687631        nan 0.64650874\n",
      " 0.64637532 0.64637434 0.64694371 0.64631733 0.64641906        nan\n",
      "        nan        nan        nan        nan 0.64637532 0.64652557\n",
      "        nan 0.64637532 0.64631733        nan        nan 0.6468271\n",
      "        nan 0.646308   0.64637532 0.64637434 0.64694371 0.64637532\n",
      " 0.64631733        nan        nan        nan        nan        nan\n",
      " 0.64637532 0.64673832        nan 0.64681905 0.64650348        nan\n",
      "        nan 0.64689297        nan 0.64672736 0.64637532 0.64679892\n",
      " 0.64688269 0.64676135 0.64670191        nan        nan        nan\n",
      "        nan        nan 0.64637532 0.64652557        nan 0.64631733\n",
      " 0.64641906        nan        nan 0.64630344        nan 0.64641906\n",
      " 0.64637532 0.64637526 0.64688269 0.64631733 0.64641906        nan\n",
      "        nan        nan        nan        nan 0.64637532 0.64652557\n",
      "        nan 0.64637532 0.64631733        nan        nan 0.64672303\n",
      "        nan 0.64631733 0.64637532 0.64637526 0.64688269 0.64637532\n",
      " 0.64631733        nan        nan        nan        nan        nan\n",
      " 0.64637532 0.64673832        nan 0.64681021 0.6465608         nan\n",
      "        nan 0.64623172        nan 0.6469409  0.64637532 0.64685663\n",
      " 0.64688269 0.64681905 0.6465096         nan        nan        nan\n",
      "        nan        nan 0.64637532 0.64652557        nan 0.64631733\n",
      " 0.64641906        nan        nan 0.64623076        nan 0.64641906\n",
      " 0.64637532 0.64626593 0.64688269 0.64631733 0.64641906        nan\n",
      "        nan        nan        nan        nan 0.64637532 0.64652557\n",
      "        nan 0.64637532 0.64631733        nan        nan 0.64661088\n",
      "        nan 0.64631733 0.64637532 0.64626593 0.64688269 0.64637532\n",
      " 0.64631733        nan        nan        nan        nan        nan]\n",
      "  category=UserWarning,\n"
     ]
    },
    {
     "name": "stdout",
     "output_type": "stream",
     "text": [
      "Fitting 10 folds for each of 216 candidates, totalling 2160 fits\n",
      "Fitting 10 folds for each of 720 candidates, totalling 7200 fits\n",
      "CPU times: user 2min 40s, sys: 17.4 s, total: 2min 58s\n",
      "Wall time: 16h 29min 56s\n"
     ]
    }
   ],
   "source": [
    "%%time\n",
    "\n",
    "for nombre, grid_search in grids.items():\n",
    "    grid_search.fit(X_train, y_train)"
   ]
  },
  {
   "cell_type": "code",
   "execution_count": 11,
   "metadata": {},
   "outputs": [
    {
     "data": {
      "text/html": [
       "<div>\n",
       "<style scoped>\n",
       "    .dataframe tbody tr th:only-of-type {\n",
       "        vertical-align: middle;\n",
       "    }\n",
       "\n",
       "    .dataframe tbody tr th {\n",
       "        vertical-align: top;\n",
       "    }\n",
       "\n",
       "    .dataframe thead th {\n",
       "        text-align: right;\n",
       "    }\n",
       "</style>\n",
       "<table border=\"1\" class=\"dataframe\">\n",
       "  <thead>\n",
       "    <tr style=\"text-align: right;\">\n",
       "      <th></th>\n",
       "      <th>Grid</th>\n",
       "      <th>Best score</th>\n",
       "    </tr>\n",
       "  </thead>\n",
       "  <tbody>\n",
       "    <tr>\n",
       "      <th>0</th>\n",
       "      <td>gs_reg_log</td>\n",
       "      <td>0.646944</td>\n",
       "    </tr>\n",
       "    <tr>\n",
       "      <th>1</th>\n",
       "      <td>gs_rand_forest</td>\n",
       "      <td>0.640585</td>\n",
       "    </tr>\n",
       "    <tr>\n",
       "      <th>2</th>\n",
       "      <td>gs_svm</td>\n",
       "      <td>0.547912</td>\n",
       "    </tr>\n",
       "  </tbody>\n",
       "</table>\n",
       "</div>"
      ],
      "text/plain": [
       "             Grid  Best score\n",
       "0      gs_reg_log    0.646944\n",
       "1  gs_rand_forest    0.640585\n",
       "2          gs_svm    0.547912"
      ]
     },
     "execution_count": 11,
     "metadata": {},
     "output_type": "execute_result"
    }
   ],
   "source": [
    "best_grids = [(i, j.best_score_) for i, j in grids.items()]\n",
    "\n",
    "best_grids = pd.DataFrame(best_grids, columns=[\"Grid\", \"Best score\"]).sort_values(by=\"Best score\", ascending=False)\n",
    "best_grids"
   ]
  },
  {
   "cell_type": "code",
   "execution_count": 12,
   "metadata": {},
   "outputs": [
    {
     "name": "stdout",
     "output_type": "stream",
     "text": [
      "El mejor modelo ha sido:\n"
     ]
    },
    {
     "data": {
      "text/plain": [
       "GridSearchCV(cv=10,\n",
       "             estimator=Pipeline(steps=[('imputer', SimpleImputer()),\n",
       "                                       ('scaler', StandardScaler()),\n",
       "                                       ('reglog', LogisticRegression())]),\n",
       "             n_jobs=-1,\n",
       "             param_grid={'imputer__strategy': ['mean', 'median',\n",
       "                                               'most_frequent'],\n",
       "                         'reglog__C': [0.1, 1, 10, 100, 1000],\n",
       "                         'reglog__max_iter': [100, 500, 1000],\n",
       "                         'reglog__penalty': ['none', 'l1', 'l2', 'elasticnet'],\n",
       "                         'reglog__solver': ['newton-cg', 'lbfgs', 'liblinear',\n",
       "                                            'sag', 'saga']},\n",
       "             scoring='f1_macro', verbose=1)"
      ]
     },
     "execution_count": 12,
     "metadata": {},
     "output_type": "execute_result"
    }
   ],
   "source": [
    "print('El mejor modelo ha sido:')\n",
    "best_model = grids[\"gs_reg_log\"]\n",
    "best_model"
   ]
  },
  {
   "cell_type": "code",
   "execution_count": 13,
   "metadata": {},
   "outputs": [
    {
     "data": {
      "text/plain": [
       "Pipeline(steps=[('imputer', SimpleImputer()), ('scaler', StandardScaler()),\n",
       "                ('reglog', LogisticRegression(C=10, solver='liblinear'))])"
      ]
     },
     "execution_count": 13,
     "metadata": {},
     "output_type": "execute_result"
    }
   ],
   "source": [
    "mejor_modelo = best_model.best_estimator_\n",
    "mejor_modelo"
   ]
  },
  {
   "cell_type": "markdown",
   "metadata": {},
   "source": [
    "## Calculamos F1 score para el mejor modelo encontrado con nuestro conjunto de datos de test"
   ]
  },
  {
   "cell_type": "code",
   "execution_count": 14,
   "metadata": {},
   "outputs": [
    {
     "name": "stdout",
     "output_type": "stream",
     "text": [
      "Evaluando el mejor modelo encontrado utilizando datos de test\n",
      "F1 Score: 0.6426717615808774\n"
     ]
    }
   ],
   "source": [
    "y_hat = mejor_modelo.predict(X_test)\n",
    "f1_s = f1_score(y_true=y_test, y_pred=y_hat, average='macro')\n",
    "print('Evaluando el mejor modelo encontrado utilizando datos de test')\n",
    "print(f'F1 Score: {f1_s}')"
   ]
  },
  {
   "cell_type": "markdown",
   "metadata": {},
   "source": [
    "# Analizamos cómo de bueno es nuestro mejor modelo encontrado"
   ]
  },
  {
   "cell_type": "markdown",
   "metadata": {},
   "source": [
    "## Mostramos la matriz de confusión del modelo para ver cómo de efectivo es"
   ]
  },
  {
   "cell_type": "code",
   "execution_count": 15,
   "metadata": {},
   "outputs": [
    {
     "name": "stderr",
     "output_type": "stream",
     "text": [
      "/Users/jagudo/.pyenv/versions/3.7.0/lib/python3.7/site-packages/sklearn/base.py:451: UserWarning: X does not have valid feature names, but SimpleImputer was fitted with feature names\n",
      "  \"X does not have valid feature names, but\"\n"
     ]
    },
    {
     "data": {
      "image/png": "[encoded data removed]",
      "text/plain": [
       "<Figure size 432x288 with 1 Axes>"
      ]
     },
     "metadata": {
      "needs_background": "light"
     },
     "output_type": "display_data"
    }
   ],
   "source": [
    "from yellowbrick.classifier import ConfusionMatrix\n",
    "\n",
    "cm = ConfusionMatrix(mejor_modelo)\n",
    "cm.fit(X_train, y_train)\n",
    "cm.score(X_test, y_test)\n",
    "cm.show();"
   ]
  },
  {
   "cell_type": "markdown",
   "metadata": {},
   "source": [
    "## Visualizamos la curva ROC AUC del modelo"
   ]
  },
  {
   "cell_type": "code",
   "execution_count": 16,
   "metadata": {},
   "outputs": [
    {
     "name": "stderr",
     "output_type": "stream",
     "text": [
      "/Users/jagudo/.pyenv/versions/3.7.0/lib/python3.7/site-packages/sklearn/base.py:451: UserWarning: X does not have valid feature names, but SimpleImputer was fitted with feature names\n",
      "  \"X does not have valid feature names, but\"\n"
     ]
    },
    {
     "data": {
      "image/png": "[encoded data removed]",
      "text/plain": [
       "<Figure size 432x288 with 1 Axes>"
      ]
     },
     "metadata": {
      "needs_background": "light"
     },
     "output_type": "display_data"
    }
   ],
   "source": [
    "from yellowbrick.classifier import ROCAUC\n",
    "\n",
    "visualizer = ROCAUC(mejor_modelo)\n",
    "visualizer.fit(X_train, y_train)\n",
    "visualizer.score(X_test, y_test)\n",
    "visualizer.show();"
   ]
  },
  {
   "cell_type": "markdown",
   "metadata": {},
   "source": [
    "## Visualizamos la curva Precision-Recall del modelo"
   ]
  },
  {
   "cell_type": "code",
   "execution_count": 17,
   "metadata": {},
   "outputs": [
    {
     "data": {
      "image/png": "[encoded data removed]",
      "text/plain": [
       "<Figure size 432x288 with 1 Axes>"
      ]
     },
     "metadata": {
      "needs_background": "light"
     },
     "output_type": "display_data"
    }
   ],
   "source": [
    "from yellowbrick.classifier import PrecisionRecallCurve\n",
    "\n",
    "viz = PrecisionRecallCurve(mejor_modelo)\n",
    "viz.fit(X_train, y_train)\n",
    "viz.score(X_test, y_test)\n",
    "viz.show();"
   ]
  },
  {
   "cell_type": "markdown",
   "metadata": {},
   "source": [
    "Vemos que el modelo es realmente bueno al predecir Methane (CH4) con las otras dos clases (clase 0 y clase 1) comete más fallos."
   ]
  },
  {
   "cell_type": "markdown",
   "metadata": {},
   "source": [
    "Generamos ahora el fichero con la solución para evaluación en Kaggle utilizando nuestro mejor modelo."
   ]
  },
  {
   "cell_type": "code",
   "execution_count": 19,
   "metadata": {},
   "outputs": [],
   "source": [
    "kg.generate_submission_file(mejor_modelo, X_sub, 12)"
   ]
  },
  {
   "cell_type": "markdown",
   "metadata": {},
   "source": [
    "# Analizamos el segundo mejor modelo que hemos encontrado"
   ]
  },
  {
   "cell_type": "markdown",
   "metadata": {},
   "source": [
    "Con Random Forest, teníamos un F1 score muy cercano al modelo de regresión logística, por lo que vamos a estudiar las características de ese modelo."
   ]
  },
  {
   "cell_type": "markdown",
   "metadata": {},
   "source": [
    "## Mostramos la matriz de confusión del modelo para ver cómo de efectivo es"
   ]
  },
  {
   "cell_type": "code",
   "execution_count": 20,
   "metadata": {},
   "outputs": [
    {
     "name": "stderr",
     "output_type": "stream",
     "text": [
      "/Users/jagudo/.pyenv/versions/3.7.0/lib/python3.7/site-packages/sklearn/base.py:451: UserWarning: X does not have valid feature names, but RandomForestClassifier was fitted with feature names\n",
      "  \"X does not have valid feature names, but\"\n"
     ]
    },
    {
     "data": {
      "image/png": "[encoded data removed]",
      "text/plain": [
       "<Figure size 432x288 with 1 Axes>"
      ]
     },
     "metadata": {
      "needs_background": "light"
     },
     "output_type": "display_data"
    }
   ],
   "source": [
    "mejor_random_forest = grids['gs_rand_forest'].best_estimator_\n",
    "\n",
    "cm = ConfusionMatrix(mejor_random_forest)\n",
    "cm.fit(X_train, y_train)\n",
    "cm.score(X_test, y_test)\n",
    "cm.show();"
   ]
  },
  {
   "cell_type": "markdown",
   "metadata": {},
   "source": [
    "## Visualizamos la curva ROC AUC del modelo"
   ]
  },
  {
   "cell_type": "code",
   "execution_count": 21,
   "metadata": {},
   "outputs": [
    {
     "name": "stderr",
     "output_type": "stream",
     "text": [
      "/Users/jagudo/.pyenv/versions/3.7.0/lib/python3.7/site-packages/sklearn/base.py:451: UserWarning: X does not have valid feature names, but RandomForestClassifier was fitted with feature names\n",
      "  \"X does not have valid feature names, but\"\n"
     ]
    },
    {
     "data": {
      "image/png": "[encoded data removed]",
      "text/plain": [
       "<Figure size 432x288 with 1 Axes>"
      ]
     },
     "metadata": {
      "needs_background": "light"
     },
     "output_type": "display_data"
    }
   ],
   "source": [
    "visualizer = ROCAUC(mejor_random_forest)\n",
    "visualizer.fit(X_train, y_train)\n",
    "visualizer.score(X_test, y_test)\n",
    "visualizer.show();"
   ]
  },
  {
   "cell_type": "markdown",
   "metadata": {},
   "source": [
    "## Visualizamos la curva Precision-Recall del modelo"
   ]
  },
  {
   "cell_type": "code",
   "execution_count": 22,
   "metadata": {},
   "outputs": [
    {
     "data": {
      "image/png": "[encoded data removed]",
      "text/plain": [
       "<Figure size 432x288 with 1 Axes>"
      ]
     },
     "metadata": {
      "needs_background": "light"
     },
     "output_type": "display_data"
    }
   ],
   "source": [
    "viz = PrecisionRecallCurve(mejor_random_forest)\n",
    "viz.fit(X_train, y_train)\n",
    "viz.score(X_test, y_test)\n",
    "viz.show();"
   ]
  },
  {
   "cell_type": "markdown",
   "metadata": {},
   "source": [
    "Aunque nuestro mejor modelo generado con random forest tiene un F1 score muy similar al mejor modelo generado con regresión logística, podemos ver que el random forest acierta un poco más al predecir Methane (CH4), pero falla más con los otros dos contaminantes. Por lo tanto, podemos decir que es menos generalista que el otro modelo."
   ]
  },
  {
   "cell_type": "markdown",
   "metadata": {},
   "source": [
    "Generamos ahora el fichero con la solución para evaluación en Kaggle utilizando el mejor random forest que hemos obtenido."
   ]
  },
  {
   "cell_type": "code",
   "execution_count": 23,
   "metadata": {},
   "outputs": [],
   "source": [
    "kg.generate_submission_file(mejor_random_forest, X_sub, 13)"
   ]
  },
  {
   "cell_type": "markdown",
   "metadata": {},
   "source": [
    "# Resultado final en Kaggle"
   ]
  },
  {
   "cell_type": "markdown",
   "metadata": {},
   "source": [
    "Al hacer submit en Kaggle, vemos que el modelo de random forest tiene un mejor score, pese a que al calcular nosotros el F1 score nos salía que el modelo con regresión logística era mejor.\n",
    "\n",
    "Analizando los valores predichos por ambos modelos y viendo el número de ocurrencias de *Methane (CH4)* (valor 2), vemos que el modelo de regresión logística predice más ocurrencias:"
   ]
  },
  {
   "cell_type": "code",
   "execution_count": 24,
   "metadata": {},
   "outputs": [
    {
     "data": {
      "text/plain": [
       "3882"
      ]
     },
     "execution_count": 24,
     "metadata": {},
     "output_type": "execute_result"
    }
   ],
   "source": [
    "mejor_modelo.predict(X_sub).tolist().count(2)"
   ]
  },
  {
   "cell_type": "code",
   "execution_count": 25,
   "metadata": {},
   "outputs": [
    {
     "data": {
      "text/plain": [
       "3817"
      ]
     },
     "execution_count": 25,
     "metadata": {},
     "output_type": "execute_result"
    }
   ],
   "source": [
    "mejor_random_forest.predict(X_sub).tolist().count(2)"
   ]
  },
  {
   "cell_type": "markdown",
   "metadata": {},
   "source": [
    "Precisamente para Methane (CH4) (valor 2), el modelo de random forest hace mejores predicciones, lo que explica que para este conjunto de datos precisamente funcione mejor y, por lo tanto, tenga un score mejor en Kaggle."
   ]
  }
 ],
 "metadata": {
  "kernelspec": {
   "display_name": "Python 3",
   "language": "python",
   "name": "python3"
  },
  "language_info": {
   "codemirror_mode": {
    "name": "ipython",
    "version": 3
   },
   "file_extension": ".py",
   "mimetype": "text/x-python",
   "name": "python",
   "nbconvert_exporter": "python",
   "pygments_lexer": "ipython3",
   "version": "3.7.0"
  }
 },
 "nbformat": 4,
 "nbformat_minor": 5
}
